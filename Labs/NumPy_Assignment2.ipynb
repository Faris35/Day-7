{
 "cells": [
  {
   "cell_type": "markdown",
   "id": "5ffb93ae",
   "metadata": {},
   "source": [
    "# Q1: Import numpy library"
   ]
  },
  {
   "cell_type": "code",
   "execution_count": 92,
   "id": "936d4703",
   "metadata": {},
   "outputs": [],
   "source": [
    "import numpy as np"
   ]
  },
  {
   "cell_type": "markdown",
   "id": "b6991a89",
   "metadata": {},
   "source": [
    "# Q2: Generate a sequence of 15 floats using linspace() function"
   ]
  },
  {
   "cell_type": "code",
   "execution_count": 93,
   "id": "43bf04a5",
   "metadata": {},
   "outputs": [
    {
     "name": "stdout",
     "output_type": "stream",
     "text": [
      "[ 1.  2.  3.  4.  5.  6.  7.  8.  9. 10. 11. 12. 13. 14. 15.]\n"
     ]
    }
   ],
   "source": [
    "# Generate a sequence of 15 floats using linspace() function\n",
    "# and print the sequence\n",
    "seq = np.linspace(1, 15, 15)\n",
    "print(seq)"
   ]
  },
  {
   "cell_type": "markdown",
   "id": "7144bba8",
   "metadata": {},
   "source": [
    "# Q3: Create a 3-D array in shape (2, 2, 3) containing the four arrays given below \n",
    "Note : the array's name is up to you.\n",
    "\n",
    "|      |       |          |         |\n",
    "|------| ----- | -------- | ------- |\n",
    "|arr1 | 1.1    | 2.1       | 3.1        |\n",
    "|arr2 | 4.1    | 5.1       | 6.1        |\n",
    "|arr3 | 7.1    | 8.1       | 9.1        |\n",
    "|arr4 | 10.1   | 11.1      | 12.1       |"
   ]
  },
  {
   "cell_type": "code",
   "execution_count": 94,
   "id": "c1c3f9dc",
   "metadata": {},
   "outputs": [
    {
     "name": "stdout",
     "output_type": "stream",
     "text": [
      "3-D Array:\n",
      "[[[ 1.1  2.1  3.1]\n",
      "  [ 4.1  5.1  6.1]]\n",
      "\n",
      " [[ 7.1  8.1  9.1]\n",
      "  [10.1 11.1 12.1]]]\n",
      "\n",
      "Shape of the 3-D Array:\n",
      "(2, 2, 3)\n"
     ]
    }
   ],
   "source": [
    "# Create a 3-D array in shape (2, 2, 3) containing the four arrays\n",
    "\n",
    "# Array 1\n",
    "array1 = np.array([[1.1, 2.1, 3.1]])\n",
    "\n",
    "# Array 2\n",
    "array2 = np.array([[4.1, 5.1, 6.1]])\n",
    "\n",
    "# Array 3\n",
    "array3 = np.array([[7.1, 8.1, 9.1]])\n",
    "\n",
    "# Array 4\n",
    "array4 = np.array([[10.1, 11.1, 12.1]])\n",
    "\n",
    "# Combine the four arrays into a single 3-D array and reshape it to (2, 2, 3)\n",
    "array_3d = np.array([array1, array2, array3, array4]).reshape(2, 2, 3)\n",
    "\n",
    "# Print the 3-D array\n",
    "print(\"3-D Array:\")\n",
    "print(array_3d)\n",
    "\n",
    "# Print the shape of the 3-D array\n",
    "print(\"\\nShape of the 3-D Array:\")\n",
    "print(array_3d.shape)"
   ]
  },
  {
   "cell_type": "markdown",
   "id": "807acbf6",
   "metadata": {},
   "source": [
    "# Q4: Print the following:\n",
    "Note: use the same array from Q3.\n",
    "- Array's type.\n",
    "- Array's elements datatype.\n",
    "- Array's shape.\n",
    "- Array's size.\n",
    "- Array's dimention."
   ]
  },
  {
   "cell_type": "code",
   "execution_count": 95,
   "id": "6e90d6a0",
   "metadata": {},
   "outputs": [
    {
     "name": "stdout",
     "output_type": "stream",
     "text": [
      "Type of the 3-D Array: <class 'numpy.ndarray'>\n",
      "Data type of the 3-D Array: float64\n",
      "Shape of the 3-D Array: (2, 2, 3)\n",
      "Size of the 3-D Array: 12\n",
      "Number of dimensions of the 3-D Array: 3\n"
     ]
    }
   ],
   "source": [
    "# Print the type of the 3-D array\n",
    "print(\"Type of the 3-D Array:\", type(array_3d))\n",
    "\n",
    "# Print the data type of the elements in the 3-D array\n",
    "print(\"Data type of the 3-D Array:\", array_3d.dtype)\n",
    "\n",
    "# Print the shape of the 3-D array\n",
    "print(\"Shape of the 3-D Array:\", array_3d.shape)\n",
    "\n",
    "# Print the size (total number of elements) of the 3-D array\n",
    "print(\"Size of the 3-D Array:\", array_3d.size)\n",
    "\n",
    "# Print the number of dimensions of the 3-D array\n",
    "print(\"Number of dimensions of the 3-D Array:\", array_3d.ndim)"
   ]
  },
  {
   "cell_type": "markdown",
   "id": "db4958b5",
   "metadata": {},
   "source": [
    "# Q5:  Change the array dimention from 3-D to 4-D\n",
    "Note: use the same array from Q3.\n",
    "- Create a new array to hold the changes. \n",
    "- Print the new array's dimention and shape."
   ]
  },
  {
   "cell_type": "code",
   "execution_count": 96,
   "id": "e9f5c88c",
   "metadata": {},
   "outputs": [
    {
     "name": "stdout",
     "output_type": "stream",
     "text": [
      "Number of dimensions of the 4-D Array: 4\n",
      "\n",
      "Shape of the 4-D Array: (1, 2, 2, 3)\n",
      "\n",
      "4-D Array:\n",
      "[[[[ 1.1  2.1  3.1]\n",
      "   [ 4.1  5.1  6.1]]\n",
      "\n",
      "  [[ 7.1  8.1  9.1]\n",
      "   [10.1 11.1 12.1]]]]\n"
     ]
    }
   ],
   "source": [
    "# New array to hold the 4-D array\n",
    "# Adding an extra dimension to the existing 3-D array\n",
    "array_4d = np.array([array_3d])\n",
    "\n",
    "# Print the dimensions of the 4-D array\n",
    "print(\"Number of dimensions of the 4-D Array:\", array_4d.ndim)\n",
    "\n",
    "# Print the shape of the 4-D array\n",
    "print(\"\\nShape of the 4-D Array:\", array_4d.shape)\n",
    "\n",
    "# Print the 4-D array\n",
    "print(\"\\n4-D Array:\")\n",
    "print(array_4d)"
   ]
  },
  {
   "cell_type": "markdown",
   "id": "454f2504",
   "metadata": {},
   "source": [
    "# Q6: Change the array's elements datatype to integer  \n",
    "Note: use the same array from Q5.\n",
    "\n",
    "- Create a new array to hold the changes. \n",
    "- Print the new array."
   ]
  },
  {
   "cell_type": "code",
   "execution_count": 97,
   "id": "8135b045",
   "metadata": {},
   "outputs": [
    {
     "name": "stdout",
     "output_type": "stream",
     "text": [
      "Type of the 4-D Array: int32\n",
      "\n",
      "4-D Array:\n",
      "[[[[ 1  2  3]\n",
      "   [ 4  5  6]]\n",
      "\n",
      "  [[ 7  8  9]\n",
      "   [10 11 12]]]]\n"
     ]
    }
   ],
   "source": [
    "# Change the type of the elements in the 4-D array to int\n",
    "array_4d_int = array_4d.astype(int)\n",
    "\n",
    "# Print the type of the elements in the 4-D array\n",
    "print(\"Type of the 4-D Array:\", array_4d_int.dtype)\n",
    "\n",
    "# Print the 4-D array\n",
    "print(\"\\n4-D Array:\")\n",
    "print(array_4d_int)"
   ]
  },
  {
   "cell_type": "markdown",
   "id": "ab90badc",
   "metadata": {},
   "source": [
    "# Q7: Print all array's elements using for loop\n",
    "Note: use the same array from Q6.\n",
    "\n",
    "Hint: use nditer()"
   ]
  },
  {
   "cell_type": "code",
   "execution_count": 98,
   "id": "a0d58d15",
   "metadata": {},
   "outputs": [
    {
     "name": "stdout",
     "output_type": "stream",
     "text": [
      "Elements of the 4-D Array:\n",
      "1 2 3 4 5 6 7 8 9 10 11 12 "
     ]
    }
   ],
   "source": [
    "# Print elements of the 4-D array using nditer() function\n",
    "\n",
    "print(\"Elements of the 4-D Array:\")\n",
    "for x in np.nditer(array_4d_int):\n",
    "    print(x, end=' ')"
   ]
  },
  {
   "cell_type": "markdown",
   "id": "afa8b5f3",
   "metadata": {},
   "source": [
    "# Q8:  Print number 8 using array slicing"
   ]
  },
  {
   "cell_type": "code",
   "execution_count": 99,
   "id": "8fa58ec9",
   "metadata": {},
   "outputs": [],
   "source": [
    "# Q8:  Print number 8 using array slicing\n",
    "\n",
    "def print_number(arr, index):\n",
    "    try:\n",
    "        print(f\"Number {arr[index]} found at index {index} using array slicing.\")\n",
    "    except IndexError:\n",
    "        print(\"Index out of range\")"
   ]
  },
  {
   "cell_type": "code",
   "execution_count": 100,
   "id": "6e12e2d7",
   "metadata": {},
   "outputs": [
    {
     "name": "stdout",
     "output_type": "stream",
     "text": [
      "Number 8 found at index (0, 1, 0, 1) using array slicing.\n"
     ]
    }
   ],
   "source": [
    "# Print number 8 using array slicing\n",
    "print_number(array_4d_int, (0, 1, 0, 1))"
   ]
  },
  {
   "cell_type": "markdown",
   "id": "e2e71895",
   "metadata": {},
   "source": [
    "# Q9: Print number 5 and number 6 using array slicing\n",
    "Note: use the same array from Q6."
   ]
  },
  {
   "cell_type": "code",
   "execution_count": 101,
   "id": "c3218bcb",
   "metadata": {},
   "outputs": [
    {
     "name": "stdout",
     "output_type": "stream",
     "text": [
      "Number 5 found at index (0, 0, 1, 1) using array slicing.\n",
      "Number 6 found at index (0, 0, 1, 2) using array slicing.\n"
     ]
    }
   ],
   "source": [
    "# Print number 5 using array slicing\n",
    "print_number(array_4d_int, (0, 0, 1, 1))\n",
    "\n",
    "# Print number 6 using array slicing\n",
    "print_number(array_4d_int, (0, 0, 1, 2))"
   ]
  },
  {
   "cell_type": "markdown",
   "id": "e5d63cd3",
   "metadata": {},
   "source": [
    "# Q10: Search for number 8 using where()\n",
    "Note: use the same array from Q6.\n",
    "\n",
    "Note: where() is only used with small data.\n",
    "\n",
    "*the output represents the path of the index that leads to number 8*"
   ]
  },
  {
   "cell_type": "code",
   "execution_count": 102,
   "id": "ddaf0146",
   "metadata": {},
   "outputs": [
    {
     "name": "stdout",
     "output_type": "stream",
     "text": [
      "Number 8 found at index (0, 1, 0, 1) using np.where().\n"
     ]
    }
   ],
   "source": [
    "def find_number(arr, num):\n",
    "    try:\n",
    "        # Use np.where() to find the index of the number in the array\n",
    "        index = np.where(arr == num)\n",
    "        \n",
    "        # Convert the result to a more readable format\n",
    "        readable_index = tuple(i[0] for i in index)\n",
    "        \n",
    "        # Print the result\n",
    "        print(f\"Number {num} found at index {readable_index} using np.where().\")\n",
    "    except:\n",
    "        # Handle the case where the number is not found in the array\n",
    "        print(f\"Number {num} not found in the array.\")\n",
    "\n",
    "# Find number 8 using np.where()\n",
    "find_number(array_4d_int, 8)"
   ]
  },
  {
   "cell_type": "markdown",
   "id": "c89f41ad",
   "metadata": {},
   "source": [
    "# Q11: Reshape the array as the following\n",
    "\n",
    "    array([[[ 1, 2],\n",
    "            [ 3,  4],\n",
    "            [ 5,  6]],\n",
    "\n",
    "           [[ 7,  8],\n",
    "            [ 9, 10],\n",
    "            [11, 12]]])\n",
    "            \n",
    " Note: use the same array from Q6."
   ]
  },
  {
   "cell_type": "code",
   "execution_count": 103,
   "id": "d9b632bd",
   "metadata": {},
   "outputs": [
    {
     "name": "stdout",
     "output_type": "stream",
     "text": [
      "Shape of the 3-D Array: (2, 3, 2)\n",
      "\n",
      "3-D Array:\n",
      "[[[ 1  2]\n",
      "  [ 3  4]\n",
      "  [ 5  6]]\n",
      "\n",
      " [[ 7  8]\n",
      "  [ 9 10]\n",
      "  [11 12]]]\n"
     ]
    }
   ],
   "source": [
    "# Reshape array_4d_int to (2, 3, 2) \n",
    "try:\n",
    "    # Attempt to reshape the array\n",
    "    array_3d_2 = array_4d_int.reshape(2, 3, 2)\n",
    "    \n",
    "    # Print the shape of the reshaped array\n",
    "    print(\"Shape of the 3-D Array:\", array_3d_2.shape)\n",
    "    \n",
    "    # Print the reshaped 3-D array\n",
    "    print(\"\\n3-D Array:\")\n",
    "    print(array_3d_2)\n",
    "    \n",
    "except ValueError:\n",
    "    # Handle the case where the reshape operation fails\n",
    "    print(\"Reshape failed due to incompatible shape.\")"
   ]
  },
  {
   "cell_type": "markdown",
   "id": "539c16b1",
   "metadata": {},
   "source": [
    "# Q12: Join the given arrays below \n",
    "    arr1 = np.array([['A', 'B'], ['E', 'F']])\n",
    "    arr2 = np.array([['C', 'D'], ['G', 'H']])\n",
    "## Q12.1: Join the arrays without specifying the axis "
   ]
  },
  {
   "cell_type": "code",
   "execution_count": 104,
   "id": "d6acdeaf",
   "metadata": {},
   "outputs": [
    {
     "name": "stdout",
     "output_type": "stream",
     "text": [
      "Concatenated array:\n",
      "[['A' 'B']\n",
      " ['E' 'F']\n",
      " ['C' 'D']\n",
      " ['G' 'H']]\n"
     ]
    }
   ],
   "source": [
    "# Join the two arrays\n",
    "\n",
    "# Create two arrays\n",
    "arr1 = np.array([['A', 'B'], ['E', 'F']])\n",
    "arr2 = np.array([['C', 'D'], ['G', 'H']])\n",
    "\n",
    "# Concatenate the two arrays\n",
    "arr_row = np.concatenate((arr1, arr2))\n",
    "\n",
    "# Print the concatenated array\n",
    "print(\"Concatenated array:\")\n",
    "print(arr_row)"
   ]
  },
  {
   "cell_type": "markdown",
   "id": "1a37dd47",
   "metadata": {},
   "source": [
    "# Q12.2: Join the arrays along rows with axis = 1 "
   ]
  },
  {
   "cell_type": "code",
   "execution_count": 105,
   "id": "b849658c",
   "metadata": {},
   "outputs": [
    {
     "name": "stdout",
     "output_type": "stream",
     "text": [
      "Concatenated array along axis 1:\n",
      "[['A' 'B' 'C' 'D']\n",
      " ['E' 'F' 'G' 'H']]\n"
     ]
    }
   ],
   "source": [
    "# join the two arrays along axis 1\n",
    "arr_col = np.concatenate((arr1, arr2), axis=1)\n",
    "\n",
    "# Print the concatenated array\n",
    "print(\"Concatenated array along axis 1:\")\n",
    "print(arr_col)"
   ]
  },
  {
   "cell_type": "markdown",
   "id": "7296eecf",
   "metadata": {},
   "source": [
    "# Q13: Split the array into two arrays with axis = 1, each array should contain four arrays. \n",
    "Note: use the same array from Q12.1"
   ]
  },
  {
   "cell_type": "code",
   "execution_count": 106,
   "id": "7f7f5e49",
   "metadata": {},
   "outputs": [
    {
     "name": "stdout",
     "output_type": "stream",
     "text": [
      "Split arrays:\n",
      "\n",
      "First split array of shape: (4, 1) and size = 4 (arr1_split):\n",
      "[['A']\n",
      " ['E']\n",
      " ['C']\n",
      " ['G']]\n",
      "\n",
      "Second split array of shape: {arr2_split.shape} and size = {arr2_split.size} (arr2_split):\n",
      "[['B']\n",
      " ['F']\n",
      " ['D']\n",
      " ['H']]\n"
     ]
    }
   ],
   "source": [
    "# Split the concatenated array into two arrays along axis 1\n",
    "arr1_split, arr2_split = np.split(arr_row, 2, axis=1)\n",
    "\n",
    "# Print the two split arrays\n",
    "print(\"Split arrays:\")\n",
    "\n",
    "# Print the first split array with its shape and size\n",
    "print(f\"\\nFirst split array of shape: {arr1_split.shape} and size = {arr1_split.size} (arr1_split):\")\n",
    "print(arr1_split)\n",
    "\n",
    "# Print the second split array with its shape and size\n",
    "print(\"\\nSecond split array of shape: {arr2_split.shape} and size = {arr2_split.size} (arr2_split):\")\n",
    "print(arr2_split)\n"
   ]
  }
 ],
 "metadata": {
  "kernelspec": {
   "display_name": "base",
   "language": "python",
   "name": "python3"
  },
  "language_info": {
   "codemirror_mode": {
    "name": "ipython",
    "version": 3
   },
   "file_extension": ".py",
   "mimetype": "text/x-python",
   "name": "python",
   "nbconvert_exporter": "python",
   "pygments_lexer": "ipython3",
   "version": "3.11.5"
  }
 },
 "nbformat": 4,
 "nbformat_minor": 5
}
