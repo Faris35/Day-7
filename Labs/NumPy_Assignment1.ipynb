{
 "cells": [
  {
   "cell_type": "code",
   "execution_count": 210,
   "id": "212fd1ba",
   "metadata": {},
   "outputs": [],
   "source": [
    "import numpy as np"
   ]
  },
  {
   "cell_type": "markdown",
   "id": "10803eb0",
   "metadata": {},
   "source": [
    "## Q#1: Create x array with elements equal to 1."
   ]
  },
  {
   "cell_type": "code",
   "execution_count": 211,
   "id": "3307454f",
   "metadata": {},
   "outputs": [
    {
     "name": "stdout",
     "output_type": "stream",
     "text": [
      "[1. 1. 1. 1. 1. 1. 1. 1. 1. 1.]\n"
     ]
    }
   ],
   "source": [
    "# Create an array 'x' with 10 elements, all set to 1\n",
    "x = np.ones(10)\n",
    "\n",
    "# Print the array 'x'\n",
    "print(x)"
   ]
  },
  {
   "cell_type": "markdown",
   "id": "7795306d",
   "metadata": {},
   "source": [
    "## Q#2: Create y array with elements equal to 0."
   ]
  },
  {
   "cell_type": "code",
   "execution_count": 212,
   "id": "9550b063",
   "metadata": {},
   "outputs": [
    {
     "name": "stdout",
     "output_type": "stream",
     "text": [
      "[0. 0. 0. 0. 0. 0. 0. 0. 0. 0.]\n"
     ]
    }
   ],
   "source": [
    "# Create an array 'y' with 10 elements, all set to 0\n",
    "y = np.zeros(10)\n",
    "\n",
    "# Print the array 'y'\n",
    "print(y)"
   ]
  },
  {
   "cell_type": "markdown",
   "id": "cde6a939",
   "metadata": {},
   "source": [
    "## Q#3: Add x and y arrays."
   ]
  },
  {
   "cell_type": "code",
   "execution_count": 213,
   "id": "71070d1d",
   "metadata": {},
   "outputs": [
    {
     "name": "stdout",
     "output_type": "stream",
     "text": [
      "[1. 1. 1. 1. 1. 1. 1. 1. 1. 1.]\n"
     ]
    }
   ],
   "source": [
    "# Add the arrays 'x' and 'y' together\n",
    "sum_array = x + y\n",
    "\n",
    "# Print the sum of the arrays 'x' and 'y'\n",
    "print(sum_array)"
   ]
  },
  {
   "cell_type": "markdown",
   "id": "ed854f4c",
   "metadata": {},
   "source": [
    "## Q#4: Print x array characteristics (e.g: dimension, shape, size, type)."
   ]
  },
  {
   "cell_type": "code",
   "execution_count": 214,
   "id": "32627c83",
   "metadata": {},
   "outputs": [
    {
     "name": "stdout",
     "output_type": "stream",
     "text": [
      "x array characteristics:\n",
      "Shape: (10,)\n",
      "Data type: float64\n",
      "Size: 10\n",
      "Dimensions: 1\n",
      "Sum of all numbers: 10.0\n",
      "Mean: 1.0\n",
      "Standard deviation: 0.0\n"
     ]
    }
   ],
   "source": [
    "# Print characteristics of the array 'x'\n",
    "print(\"x array characteristics:\")\n",
    "\n",
    "# Print the shape of the array\n",
    "print(\"Shape:\", x.shape)\n",
    "\n",
    "# Print the data type of the array elements\n",
    "print(\"Data type:\", x.dtype)\n",
    "\n",
    "# Print the total number of elements in the array\n",
    "print(\"Size:\", x.size)\n",
    "\n",
    "# Print the number of dimensions of the array\n",
    "print(\"Dimensions:\", x.ndim)\n",
    "\n",
    "# Print the sum of all elements in the array\n",
    "print(\"Sum of all numbers:\", np.sum(x))\n",
    "\n",
    "# Print the mean of the array elements\n",
    "print(\"Mean:\", np.mean(x))\n",
    "\n",
    "# Print the standard deviation of the array elements\n",
    "print(\"Standard deviation:\", np.std(x))"
   ]
  },
  {
   "cell_type": "markdown",
   "id": "dbd46a73",
   "metadata": {},
   "source": [
    "## Q#5: Create a 2D array \"called w\" as the following:\n",
    "\n",
    "|       |          |\n",
    "| ----- | -------- |\n",
    "| 11    | 12       |\n",
    "| 13    | 14       |\n",
    "| 15    | 16       |\n"
   ]
  },
  {
   "cell_type": "code",
   "execution_count": 215,
   "id": "b9c7bbb0",
   "metadata": {},
   "outputs": [
    {
     "name": "stdout",
     "output_type": "stream",
     "text": [
      "[[11 12]\n",
      " [13 14]\n",
      " [15 16]]\n"
     ]
    }
   ],
   "source": [
    "# Create a 2D array 'w' with specified elements\n",
    "w = np.array([[11, 12], [13, 14], [15, 16]])\n",
    "\n",
    "# Print the 2D array 'w'\n",
    "print(w)"
   ]
  },
  {
   "cell_type": "markdown",
   "id": "0e62bd09",
   "metadata": {},
   "source": [
    "## Q#6: Create z array contains the numbers from 1 to 3."
   ]
  },
  {
   "cell_type": "code",
   "execution_count": 216,
   "id": "cee8aba0",
   "metadata": {},
   "outputs": [
    {
     "name": "stdout",
     "output_type": "stream",
     "text": [
      "[1 2 3]\n"
     ]
    }
   ],
   "source": [
    "# 'z' array contains numbers from 1 to 3\n",
    "z = np.array([1, 2, 3])\n",
    "\n",
    "# Print the array 'z'\n",
    "print(z)"
   ]
  },
  {
   "cell_type": "markdown",
   "id": "32b00711",
   "metadata": {},
   "source": [
    "## Q#7: Combine the arrays z and w in horizontal way then save it in a new variable \"newArray\"."
   ]
  },
  {
   "cell_type": "code",
   "execution_count": 217,
   "id": "d218f892",
   "metadata": {},
   "outputs": [
    {
     "name": "stdout",
     "output_type": "stream",
     "text": [
      "[[11 12  1]\n",
      " [13 14  2]\n",
      " [15 16  3]]\n"
     ]
    }
   ],
   "source": [
    "# Stack the arrays 'w' and 'z' horizontally\n",
    "newArray = np.hstack((w, z.reshape(3, 1)))  # Reshape 'z' to a 3x1 array to match the dimensions of 'w'\n",
    "\n",
    "# Print the new array\n",
    "print(newArray)"
   ]
  },
  {
   "cell_type": "markdown",
   "id": "7e009910",
   "metadata": {},
   "source": [
    "## Q#8: Print all elements of \"newArray\" using the loop."
   ]
  },
  {
   "cell_type": "code",
   "execution_count": 218,
   "id": "abbed923",
   "metadata": {},
   "outputs": [
    {
     "name": "stdout",
     "output_type": "stream",
     "text": [
      "Row 0 [11 12  1]\n",
      "Row 1 [13 14  2]\n",
      "Row 2 [15 16  3]\n",
      "\n",
      "11 12 1 \n",
      "13 14 2 \n",
      "15 16 3 \n"
     ]
    }
   ],
   "source": [
    "# Print each row of 'newArray' with a row count\n",
    "count = 0\n",
    "for i in newArray:\n",
    "    print(f\"Row {count}\", i)\n",
    "    count += 1\n",
    "\n",
    "print() # for a new line \n",
    "\n",
    "for row in newArray:\n",
    "    for element in row:\n",
    "        print(element, end=' ')\n",
    "    print()  # for a new line after each row"
   ]
  },
  {
   "cell_type": "markdown",
   "id": "011c6d2d",
   "metadata": {},
   "source": [
    "## Q#9: Reverse the columns and rows of \"newArray\"."
   ]
  },
  {
   "cell_type": "code",
   "execution_count": 219,
   "id": "12e3f0db",
   "metadata": {},
   "outputs": [
    {
     "name": "stdout",
     "output_type": "stream",
     "text": [
      "[[ 3 16 15]\n",
      " [ 2 14 13]\n",
      " [ 1 12 11]]\n"
     ]
    }
   ],
   "source": [
    "# Reverse the columns and rows of 'newArray'\n",
    "reversedArray = newArray[::-1, ::-1]\n",
    "\n",
    "# Print the reversed array\n",
    "print(reversedArray)"
   ]
  },
  {
   "cell_type": "markdown",
   "id": "f40b57c3",
   "metadata": {},
   "source": [
    "## Q#10: Decrement all elements of \"newArray\" with 1."
   ]
  },
  {
   "cell_type": "code",
   "execution_count": 220,
   "id": "aea004df",
   "metadata": {},
   "outputs": [
    {
     "name": "stdout",
     "output_type": "stream",
     "text": [
      "[[10 11  0]\n",
      " [12 13  1]\n",
      " [14 15  2]]\n"
     ]
    }
   ],
   "source": [
    "# Decrement all elements of 'newArray' by 1\n",
    "newArray = newArray - 1\n",
    "\n",
    "# Print the updated 'newArray'\n",
    "print(newArray)"
   ]
  },
  {
   "cell_type": "markdown",
   "id": "8901e8be",
   "metadata": {},
   "source": [
    "## Q#11: Find smallest and biggest values in \"newArray\"."
   ]
  },
  {
   "cell_type": "code",
   "execution_count": 221,
   "id": "4ea08613",
   "metadata": {},
   "outputs": [
    {
     "name": "stdout",
     "output_type": "stream",
     "text": [
      "Smallest: 0\n",
      "Biggest: 15\n"
     ]
    }
   ],
   "source": [
    "# Smallest and biggest in newArray\n",
    "\n",
    "# Check if the array is empty\n",
    "if newArray.size == 0:\n",
    "    print(\"Array is empty\")\n",
    "\n",
    "else:\n",
    "    smallest = newArray.min() # Find the smallest number in the array\n",
    "    biggest = newArray.max() # Find the biggest number in the array\n",
    "\n",
    "    # print the smallest and biggest\n",
    "    print(\"Smallest:\", smallest)\n",
    "    print(\"Biggest:\", biggest)"
   ]
  },
  {
   "cell_type": "markdown",
   "id": "c5d5d4ca",
   "metadata": {},
   "source": [
    "## Q#12: Print the first row of \"newArray\" using indexing."
   ]
  },
  {
   "cell_type": "code",
   "execution_count": 222,
   "id": "73e3b5a5",
   "metadata": {},
   "outputs": [
    {
     "name": "stdout",
     "output_type": "stream",
     "text": [
      "First row: [10 11  0]\n"
     ]
    }
   ],
   "source": [
    "# Print first row of 'newArray'\n",
    "print(\"First row:\", newArray[0])"
   ]
  },
  {
   "cell_type": "markdown",
   "id": "78f4d6c1",
   "metadata": {},
   "source": [
    "## Q#13: Print the number equals 12 of \"newArray\" using indexing."
   ]
  },
  {
   "cell_type": "code",
   "execution_count": 223,
   "id": "c84253f2",
   "metadata": {},
   "outputs": [],
   "source": [
    "# Function to print the index of a number in the array\n",
    "def print_index(number, index):\n",
    "    # Check if the number 12 is found in the array\n",
    "    if index[0].size == 0:\n",
    "        # If the number 12 is not found, print a message\n",
    "        print(f\"Number {number} not found in the array\")\n",
    "    else:\n",
    "        print(f\"Number equals {newArray[index][0]} is at index {index[0][0]}, {index[1][0]}\")   # index[0][0] is the row index, index[1][0] is the column index"
   ]
  },
  {
   "cell_type": "code",
   "execution_count": 224,
   "id": "7ad660b7",
   "metadata": {},
   "outputs": [
    {
     "name": "stdout",
     "output_type": "stream",
     "text": [
      "Number equals 12 is at index 1, 0\n"
     ]
    }
   ],
   "source": [
    "# Find the index of the number 12 in 'newArray'\n",
    "index = np.where(newArray == 12)\n",
    "\n",
    "# Print the index of the number 12\n",
    "print_index(12, index)"
   ]
  },
  {
   "cell_type": "markdown",
   "id": "932b5c3d",
   "metadata": {},
   "source": [
    "## Q#14: Print the numbers equal 0 and 13 of \"newArray\" using indexing."
   ]
  },
  {
   "cell_type": "code",
   "execution_count": 225,
   "id": "31fb5fd0",
   "metadata": {},
   "outputs": [
    {
     "name": "stdout",
     "output_type": "stream",
     "text": [
      "Number equals 0 is at index 0, 2\n",
      "Number equals 13 is at index 1, 1\n"
     ]
    }
   ],
   "source": [
    "# Find the indices of the numbers 0 and 13 in 'newArray'\n",
    "index_0 = np.where(newArray == 0)\n",
    "index_13 = np.where(newArray == 13)\n",
    "\n",
    "# Print the indices of the numbers 0 and 13\n",
    "print_index(0, index_0)\n",
    "print_index(13, index_13)"
   ]
  },
  {
   "cell_type": "markdown",
   "id": "27e0f68e",
   "metadata": {},
   "source": [
    "## Q#15: Change the shape of \"newArray\" to (9,1)."
   ]
  },
  {
   "cell_type": "code",
   "execution_count": 226,
   "id": "7651ebc4",
   "metadata": {},
   "outputs": [],
   "source": [
    "# Function to reshape the array to the specified shape\n",
    "def reshape_array(arr, shape):\n",
    "    try:\n",
    "        # Attempt to reshape the array\n",
    "        arr = arr.reshape(shape)\n",
    "            \n",
    "        # Print the new shape of the array\n",
    "        print(\"newArray shape:\", arr.shape)\n",
    "\n",
    "        # Print the reshaped array\n",
    "        print(\"Reshaped newArray:\")\n",
    "        print(arr)\n",
    "        \n",
    "        return arr\n",
    "    \n",
    "    except ValueError:\n",
    "        # If reshaping fails, print an error message and return the original array\n",
    "        print(f\"Cannot reshape array to {shape}\")\n",
    "        return arr"
   ]
  },
  {
   "cell_type": "code",
   "execution_count": 227,
   "id": "35f224ad",
   "metadata": {},
   "outputs": [
    {
     "name": "stdout",
     "output_type": "stream",
     "text": [
      "newArray shape: (9, 1)\n",
      "Reshaped newArray:\n",
      "[[10]\n",
      " [11]\n",
      " [ 0]\n",
      " [12]\n",
      " [13]\n",
      " [ 1]\n",
      " [14]\n",
      " [15]\n",
      " [ 2]]\n"
     ]
    }
   ],
   "source": [
    "# Reshape 'newArray' to a 9x1 array\n",
    "newArray = reshape_array(newArray, (9, 1))"
   ]
  },
  {
   "cell_type": "markdown",
   "id": "e6d104c5",
   "metadata": {},
   "source": [
    "## Q#16: Change the shape of \"newArray\" to (3,2)."
   ]
  },
  {
   "cell_type": "code",
   "execution_count": 228,
   "id": "724d51d5",
   "metadata": {},
   "outputs": [
    {
     "name": "stdout",
     "output_type": "stream",
     "text": [
      "Cannot reshape array to (3, 2)\n"
     ]
    }
   ],
   "source": [
    "# Reshape 'newArray' to a 3x2 array\n",
    "newArray = reshape_array(newArray, (3, 2))"
   ]
  },
  {
   "cell_type": "markdown",
   "id": "09567fdc",
   "metadata": {},
   "source": [
    "# Well Done 🎉"
   ]
  }
 ],
 "metadata": {
  "kernelspec": {
   "display_name": "base",
   "language": "python",
   "name": "python3"
  },
  "language_info": {
   "codemirror_mode": {
    "name": "ipython",
    "version": 3
   },
   "file_extension": ".py",
   "mimetype": "text/x-python",
   "name": "python",
   "nbconvert_exporter": "python",
   "pygments_lexer": "ipython3",
   "version": "3.11.5"
  }
 },
 "nbformat": 4,
 "nbformat_minor": 5
}
